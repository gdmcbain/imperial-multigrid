{
 "cells": [
  {
   "cell_type": "code",
   "execution_count": 1,
   "metadata": {},
   "outputs": [],
   "source": [
    "import scipy as sp\n",
    "import numpy as np\n",
    "import scipy.sparse as sparse\n",
    "import scipy.sparse.linalg as sla\n",
    "import matplotlib.pyplot as plt\n",
    "plt.style.use('seaborn-talk')\n",
    "\n",
    "%matplotlib inline"
   ]
  },
  {
   "cell_type": "markdown",
   "metadata": {},
   "source": [
    "### Build an operator\n",
    "\n",
    "(you can safely ignore this)"
   ]
  },
  {
   "cell_type": "code",
   "execution_count": 2,
   "metadata": {},
   "outputs": [
    {
     "name": "stdout",
     "output_type": "stream",
     "text": [
      "[[ 4. -1.  0.  0. -1.  0.  0.  0.  0.  0.  0.  0.  0.  0.  0.  0.]\n",
      " [-1.  4. -1.  0.  0. -1.  0.  0.  0.  0.  0.  0.  0.  0.  0.  0.]\n",
      " [ 0. -1.  4. -1.  0.  0. -1.  0.  0.  0.  0.  0.  0.  0.  0.  0.]\n",
      " [ 0.  0. -1.  4.  0.  0.  0. -1.  0.  0.  0.  0.  0.  0.  0.  0.]\n",
      " [-1.  0.  0.  0.  4. -1.  0.  0. -1.  0.  0.  0.  0.  0.  0.  0.]\n",
      " [ 0. -1.  0.  0. -1.  4. -1.  0.  0. -1.  0.  0.  0.  0.  0.  0.]\n",
      " [ 0.  0. -1.  0.  0. -1.  4. -1.  0.  0. -1.  0.  0.  0.  0.  0.]\n",
      " [ 0.  0.  0. -1.  0.  0. -1.  4.  0.  0.  0. -1.  0.  0.  0.  0.]\n",
      " [ 0.  0.  0.  0. -1.  0.  0.  0.  4. -1.  0.  0. -1.  0.  0.  0.]\n",
      " [ 0.  0.  0.  0.  0. -1.  0.  0. -1.  4. -1.  0.  0. -1.  0.  0.]\n",
      " [ 0.  0.  0.  0.  0.  0. -1.  0.  0. -1.  4. -1.  0.  0. -1.  0.]\n",
      " [ 0.  0.  0.  0.  0.  0.  0. -1.  0.  0. -1.  4.  0.  0.  0. -1.]\n",
      " [ 0.  0.  0.  0.  0.  0.  0.  0. -1.  0.  0.  0.  4. -1.  0.  0.]\n",
      " [ 0.  0.  0.  0.  0.  0.  0.  0.  0. -1.  0.  0. -1.  4. -1.  0.]\n",
      " [ 0.  0.  0.  0.  0.  0.  0.  0.  0.  0. -1.  0.  0. -1.  4. -1.]\n",
      " [ 0.  0.  0.  0.  0.  0.  0.  0.  0.  0.  0. -1.  0.  0. -1.  4.]]\n"
     ]
    }
   ],
   "source": [
    "def stencil_grid(S, grid):\n",
    "    N_v = np.prod(grid)  # number of vertices in the mesh\n",
    "    N_s = (S != 0).sum() # number of nonzero stencil entries\n",
    "\n",
    "    # diagonal offsets\n",
    "    diags = np.zeros(N_s, dtype=int)\n",
    "\n",
    "    # compute index offset of each dof within the stencil\n",
    "    strides = np.cumprod([1] + list(reversed(grid)))[:-1]\n",
    "    indices = tuple(i.copy() for i in S.nonzero())\n",
    "    for i, s in zip(indices, S.shape):\n",
    "        i -= s // 2\n",
    "\n",
    "    for stride, coords in zip(strides, reversed(indices)):\n",
    "        diags += stride * coords\n",
    "\n",
    "    data = S[S != 0].repeat(N_v).reshape(N_s, N_v)\n",
    "\n",
    "    indices = np.vstack(indices).T\n",
    "\n",
    "    # zero boundary connections\n",
    "    for index, diag in zip(indices, data):\n",
    "        diag = diag.reshape(grid)\n",
    "        for n, i in enumerate(index):\n",
    "            if i > 0:\n",
    "                s = [slice(None)] * len(grid)\n",
    "                s[n] = slice(0, i)\n",
    "                s = tuple(s)\n",
    "                diag[s] = 0\n",
    "            elif i < 0:\n",
    "                s = [slice(None)]*len(grid)\n",
    "                s[n] = slice(i, None)\n",
    "                s = tuple(s)\n",
    "                diag[s] = 0\n",
    "\n",
    "    # remove diagonals that lie outside matrix\n",
    "    mask = abs(diags) < N_v\n",
    "    if not mask.all():\n",
    "        diags = diags[mask]\n",
    "        data = data[mask]\n",
    "\n",
    "    # sum duplicate diagonals\n",
    "    if len(np.unique(diags)) != len(diags):\n",
    "        new_diags = np.unique(diags)\n",
    "        new_data = np.zeros((len(new_diags), data.shape[1]),\n",
    "                            dtype=data.dtype)\n",
    "\n",
    "        for dia, dat in zip(diags, data):\n",
    "            n = np.searchsorted(new_diags, dia)\n",
    "            new_data[n, :] += dat\n",
    "\n",
    "        diags = new_diags\n",
    "        data = new_data\n",
    "\n",
    "    return sparse.dia_matrix((data, diags), shape=(N_v, N_v)).tocsr()\n",
    "\n",
    "sten = np.zeros((3,3))\n",
    "sten[[0,1,1,2],[1,0,2,1]] = -1\n",
    "sten[1,1] = 4\n",
    "\n",
    "A = stencil_grid(sten, (4,4))\n",
    "print(A.toarray())"
   ]
  },
  {
   "cell_type": "markdown",
   "metadata": {},
   "source": [
    "### Relaxation and interpolation\n",
    "\n",
    "Relaxation follows the 1D case, this time using $\\omega = 4/5$.\n",
    "\n",
    "Interpolation follws the 1D case, this time in tensor fashion."
   ]
  },
  {
   "cell_type": "code",
   "execution_count": 3,
   "metadata": {},
   "outputs": [],
   "source": [
    "def relax(A, u, f, nu):\n",
    "    n = A.shape[0]\n",
    "    unew = u.copy()\n",
    "    Dinv = sparse.spdiags(1./A.diagonal(), [0], n, n)\n",
    "    omega = 4 / 5\n",
    "    \n",
    "    for i in range(nu):\n",
    "        unew += omega * Dinv * (f - A * unew)\n",
    "\n",
    "    return unew\n",
    "\n",
    "def interpolation1d(nc, nf):\n",
    "    d = np.repeat([[1, 2, 1]], nc, axis=0).T\n",
    "    I = np.zeros((3,nc), dtype=int)\n",
    "    for i in range(nc):\n",
    "        I[:,i] = [2*i, 2*i+1, 2*i+2]\n",
    "    J = np.repeat([np.arange(nc)], 3, axis=0)\n",
    "    P = sparse.coo_matrix(\n",
    "        (d.ravel(), (I.ravel(), J.ravel()))\n",
    "        ).tocsr()\n",
    "    return 0.5 * P\n",
    "\n",
    "def poissonop(n):\n",
    "    \"\"\"\n",
    "    Create a 2D operator from a stencil.\n",
    "    \"\"\"\n",
    "    sten = np.array([[0, -1, 0], [-1, 4, -1], [0, -1, 0]])\n",
    "    A = stencil_grid(sten, (n, n))\n",
    "    return A"
   ]
  },
  {
   "cell_type": "code",
   "execution_count": 4,
   "metadata": {
    "scrolled": true
   },
   "outputs": [
    {
     "data": {
      "text/plain": [
       "array([[0.25, 0.  , 0.  , 0.  , 0.  , 0.  , 0.  , 0.  , 0.  ],\n",
       "       [0.5 , 0.  , 0.  , 0.  , 0.  , 0.  , 0.  , 0.  , 0.  ],\n",
       "       [0.25, 0.25, 0.  , 0.  , 0.  , 0.  , 0.  , 0.  , 0.  ],\n",
       "       [0.  , 0.5 , 0.  , 0.  , 0.  , 0.  , 0.  , 0.  , 0.  ],\n",
       "       [0.  , 0.25, 0.25, 0.  , 0.  , 0.  , 0.  , 0.  , 0.  ],\n",
       "       [0.  , 0.  , 0.5 , 0.  , 0.  , 0.  , 0.  , 0.  , 0.  ],\n",
       "       [0.  , 0.  , 0.25, 0.  , 0.  , 0.  , 0.  , 0.  , 0.  ],\n",
       "       [0.5 , 0.  , 0.  , 0.  , 0.  , 0.  , 0.  , 0.  , 0.  ],\n",
       "       [1.  , 0.  , 0.  , 0.  , 0.  , 0.  , 0.  , 0.  , 0.  ],\n",
       "       [0.5 , 0.5 , 0.  , 0.  , 0.  , 0.  , 0.  , 0.  , 0.  ],\n",
       "       [0.  , 1.  , 0.  , 0.  , 0.  , 0.  , 0.  , 0.  , 0.  ],\n",
       "       [0.  , 0.5 , 0.5 , 0.  , 0.  , 0.  , 0.  , 0.  , 0.  ],\n",
       "       [0.  , 0.  , 1.  , 0.  , 0.  , 0.  , 0.  , 0.  , 0.  ],\n",
       "       [0.  , 0.  , 0.5 , 0.  , 0.  , 0.  , 0.  , 0.  , 0.  ],\n",
       "       [0.25, 0.  , 0.  , 0.25, 0.  , 0.  , 0.  , 0.  , 0.  ],\n",
       "       [0.5 , 0.  , 0.  , 0.5 , 0.  , 0.  , 0.  , 0.  , 0.  ],\n",
       "       [0.25, 0.25, 0.  , 0.25, 0.25, 0.  , 0.  , 0.  , 0.  ],\n",
       "       [0.  , 0.5 , 0.  , 0.  , 0.5 , 0.  , 0.  , 0.  , 0.  ],\n",
       "       [0.  , 0.25, 0.25, 0.  , 0.25, 0.25, 0.  , 0.  , 0.  ],\n",
       "       [0.  , 0.  , 0.5 , 0.  , 0.  , 0.5 , 0.  , 0.  , 0.  ],\n",
       "       [0.  , 0.  , 0.25, 0.  , 0.  , 0.25, 0.  , 0.  , 0.  ],\n",
       "       [0.  , 0.  , 0.  , 0.5 , 0.  , 0.  , 0.  , 0.  , 0.  ],\n",
       "       [0.  , 0.  , 0.  , 1.  , 0.  , 0.  , 0.  , 0.  , 0.  ],\n",
       "       [0.  , 0.  , 0.  , 0.5 , 0.5 , 0.  , 0.  , 0.  , 0.  ],\n",
       "       [0.  , 0.  , 0.  , 0.  , 1.  , 0.  , 0.  , 0.  , 0.  ],\n",
       "       [0.  , 0.  , 0.  , 0.  , 0.5 , 0.5 , 0.  , 0.  , 0.  ],\n",
       "       [0.  , 0.  , 0.  , 0.  , 0.  , 1.  , 0.  , 0.  , 0.  ],\n",
       "       [0.  , 0.  , 0.  , 0.  , 0.  , 0.5 , 0.  , 0.  , 0.  ],\n",
       "       [0.  , 0.  , 0.  , 0.25, 0.  , 0.  , 0.25, 0.  , 0.  ],\n",
       "       [0.  , 0.  , 0.  , 0.5 , 0.  , 0.  , 0.5 , 0.  , 0.  ],\n",
       "       [0.  , 0.  , 0.  , 0.25, 0.25, 0.  , 0.25, 0.25, 0.  ],\n",
       "       [0.  , 0.  , 0.  , 0.  , 0.5 , 0.  , 0.  , 0.5 , 0.  ],\n",
       "       [0.  , 0.  , 0.  , 0.  , 0.25, 0.25, 0.  , 0.25, 0.25],\n",
       "       [0.  , 0.  , 0.  , 0.  , 0.  , 0.5 , 0.  , 0.  , 0.5 ],\n",
       "       [0.  , 0.  , 0.  , 0.  , 0.  , 0.25, 0.  , 0.  , 0.25],\n",
       "       [0.  , 0.  , 0.  , 0.  , 0.  , 0.  , 0.5 , 0.  , 0.  ],\n",
       "       [0.  , 0.  , 0.  , 0.  , 0.  , 0.  , 1.  , 0.  , 0.  ],\n",
       "       [0.  , 0.  , 0.  , 0.  , 0.  , 0.  , 0.5 , 0.5 , 0.  ],\n",
       "       [0.  , 0.  , 0.  , 0.  , 0.  , 0.  , 0.  , 1.  , 0.  ],\n",
       "       [0.  , 0.  , 0.  , 0.  , 0.  , 0.  , 0.  , 0.5 , 0.5 ],\n",
       "       [0.  , 0.  , 0.  , 0.  , 0.  , 0.  , 0.  , 0.  , 1.  ],\n",
       "       [0.  , 0.  , 0.  , 0.  , 0.  , 0.  , 0.  , 0.  , 0.5 ],\n",
       "       [0.  , 0.  , 0.  , 0.  , 0.  , 0.  , 0.25, 0.  , 0.  ],\n",
       "       [0.  , 0.  , 0.  , 0.  , 0.  , 0.  , 0.5 , 0.  , 0.  ],\n",
       "       [0.  , 0.  , 0.  , 0.  , 0.  , 0.  , 0.25, 0.25, 0.  ],\n",
       "       [0.  , 0.  , 0.  , 0.  , 0.  , 0.  , 0.  , 0.5 , 0.  ],\n",
       "       [0.  , 0.  , 0.  , 0.  , 0.  , 0.  , 0.  , 0.25, 0.25],\n",
       "       [0.  , 0.  , 0.  , 0.  , 0.  , 0.  , 0.  , 0.  , 0.5 ],\n",
       "       [0.  , 0.  , 0.  , 0.  , 0.  , 0.  , 0.  , 0.  , 0.25]])"
      ]
     },
     "execution_count": 4,
     "metadata": {},
     "output_type": "execute_result"
    }
   ],
   "source": [
    "n = 2**3 - 1\n",
    "nc = 2**2 - 1\n",
    "sten = np.array([[0, -1, 0], [-1, 4, -1], [0, -1, 0]])\n",
    "A = poissonop(n)\n",
    "P1d = interpolation1d(nc, n)\n",
    "P = sparse.kron(P1d, P1d).tocsr()\n",
    "P.toarray()"
   ]
  },
  {
   "cell_type": "markdown",
   "metadata": {},
   "source": [
    "### Make sure we interpolate / restrict"
   ]
  },
  {
   "cell_type": "code",
   "execution_count": 5,
   "metadata": {},
   "outputs": [],
   "source": [
    "n = 2**5 - 1\n",
    "nc = 2**4 - 1\n",
    "A = poissonop(n)\n",
    "P1d = interpolation1d(nc, n)\n",
    "P = sparse.kron(P1d, P1d).tocsr()"
   ]
  },
  {
   "cell_type": "code",
   "execution_count": 6,
   "metadata": {},
   "outputs": [
    {
     "data": {
      "text/plain": [
       "<matplotlib.colorbar.Colorbar at 0x1160e1b10>"
      ]
     },
     "execution_count": 6,
     "metadata": {},
     "output_type": "execute_result"
    },
    {
     "data": {
      "image/png": "[encoded data removed]",
      "text/plain": [
       "<Figure size 432x288 with 2 Axes>"
      ]
     },
     "metadata": {},
     "output_type": "display_data"
    },
    {
     "data": {
      "image/png": "[encoded data removed]",
      "text/plain": [
       "<Figure size 432x288 with 2 Axes>"
      ]
     },
     "metadata": {},
     "output_type": "display_data"
    }
   ],
   "source": [
    "x1d = np.linspace(0, 1, nc+2)[1:-1]\n",
    "X, Y = np.meshgrid(x1d, x1d)\n",
    "uc = np.sin(np.pi * X) * np.sin(np.pi * Y)\n",
    "plt.figure()\n",
    "plt.pcolormesh(uc)\n",
    "plt.colorbar()\n",
    "\n",
    "u = P * uc.ravel()\n",
    "u = u.reshape((n,n))\n",
    "plt.figure()\n",
    "plt.pcolormesh(u)\n",
    "plt.colorbar()"
   ]
  },
  {
   "cell_type": "code",
   "execution_count": 7,
   "metadata": {},
   "outputs": [
    {
     "data": {
      "text/plain": [
       "<matplotlib.colorbar.Colorbar at 0x116404c50>"
      ]
     },
     "execution_count": 7,
     "metadata": {},
     "output_type": "execute_result"
    },
    {
     "data": {
      "image/png": "[encoded data removed]",
      "text/plain": [
       "<Figure size 432x288 with 2 Axes>"
      ]
     },
     "metadata": {},
     "output_type": "display_data"
    },
    {
     "data": {
      "image/png": "[encoded data removed]",
      "text/plain": [
       "<Figure size 432x288 with 2 Axes>"
      ]
     },
     "metadata": {},
     "output_type": "display_data"
    }
   ],
   "source": [
    "x1d = np.linspace(0, 1, n+2)[1:-1]\n",
    "X, Y = np.meshgrid(x1d, x1d)\n",
    "u = np.sin(np.pi * X) * np.sin(np.pi * Y)\n",
    "plt.figure()\n",
    "plt.pcolormesh(u)\n",
    "plt.colorbar()\n",
    "\n",
    "uc = 0.25 * P.T * u.ravel()\n",
    "uc = uc.reshape((nc,nc))\n",
    "plt.figure()\n",
    "plt.pcolormesh(uc)\n",
    "plt.colorbar()"
   ]
  },
  {
   "cell_type": "markdown",
   "metadata": {},
   "source": [
    "### Check to see if we \"smooth\" (visually)"
   ]
  },
  {
   "cell_type": "code",
   "execution_count": 8,
   "metadata": {},
   "outputs": [
    {
     "data": {
      "text/plain": [
       "<matplotlib.colorbar.Colorbar at 0x1166510d0>"
      ]
     },
     "execution_count": 8,
     "metadata": {},
     "output_type": "execute_result"
    },
    {
     "data": {
      "image/png": "[encoded data removed]",
      "text/plain": [
       "<Figure size 432x288 with 2 Axes>"
      ]
     },
     "metadata": {},
     "output_type": "display_data"
    },
    {
     "data": {
      "image/png": "[encoded data removed]",
      "text/plain": [
       "<Figure size 432x288 with 2 Axes>"
      ]
     },
     "metadata": {},
     "output_type": "display_data"
    }
   ],
   "source": [
    "u = np.random.rand(n*n)\n",
    "f = np.zeros((n*n,))\n",
    "plt.figure()\n",
    "plt.pcolormesh(u.reshape(n,n))\n",
    "plt.colorbar()\n",
    "u = relax(A, u, f, 5)\n",
    "plt.figure()\n",
    "plt.pcolormesh(u.reshape(n,n))\n",
    "plt.colorbar()"
   ]
  },
  {
   "cell_type": "code",
   "execution_count": 9,
   "metadata": {},
   "outputs": [],
   "source": [
    "def hnorm(r):\n",
    "    \"\"\"define ||r||_h = h ||r||_2\"\"\"\n",
    "    n = len(r)\n",
    "    h = 1.0 / (n+1)\n",
    "    hrnorm = h * np.linalg.norm(r)\n",
    "    return hrnorm"
   ]
  },
  {
   "cell_type": "markdown",
   "metadata": {},
   "source": [
    "### Run two cycles by hand"
   ]
  },
  {
   "cell_type": "code",
   "execution_count": 10,
   "metadata": {},
   "outputs": [
    {
     "name": "stdout",
     "output_type": "stream",
     "text": [
      "r0= 0.04377143561583988\n",
      "r1= 0.006294924435382973\n",
      "r2= 0.0015314527890241214\n"
     ]
    }
   ],
   "source": [
    "k = 5\n",
    "n = 2**k - 1\n",
    "nc = 2**(k-1) - 1\n",
    "sten = np.array([[0, -1, 0], [-1, 4, -1], [0, -1, 0]])\n",
    "A = poissonop(n)\n",
    "P1d = interpolation1d(nc, n)\n",
    "P = sparse.kron(P1d, P1d).tocsr()\n",
    "PT = 0.25 * P.T\n",
    "u0 = np.random.rand(n*n)\n",
    "f0 = np.random.rand(n*n)\n",
    "print('r0=', hnorm(f0 - A * u0))\n",
    "\n",
    "u0 = relax(A, u0, f0, 1)\n",
    "f1 = PT * (f0 - A * u0)\n",
    "u1 = sla.spsolve(PT * A * P, f1)\n",
    "u0 = u0 + P * u1\n",
    "u0 = relax(A, u0, f0, 1)\n",
    "print('r1=',hnorm(f0 - A * u0))\n",
    "\n",
    "u0 = relax(A, u0, f0, 1)\n",
    "f1 = PT * (f0 - A * u0)\n",
    "u1 = sla.spsolve(PT * A * P, f1)\n",
    "u0 = u0 + P * u1\n",
    "u0 = relax(A, u0, f0, 1)\n",
    "print('r2=',hnorm(f0 - A * u0))"
   ]
  },
  {
   "cell_type": "markdown",
   "metadata": {},
   "source": [
    "### Construct at twogrid cycle"
   ]
  },
  {
   "cell_type": "code",
   "execution_count": 11,
   "metadata": {},
   "outputs": [],
   "source": [
    "def twogrid(A, P, A1, u0, f0, nu):\n",
    "    u0 = relax(A, u0, f0, nu)\n",
    "    f1 = P.T * (f0 - A * u0)\n",
    "\n",
    "    u1 = sla.spsolve(A1, f1)\n",
    "\n",
    "    u0 = u0 + P * u1\n",
    "    u0 = relax(A, u0, f0, nu)\n",
    "    return u0"
   ]
  },
  {
   "cell_type": "code",
   "execution_count": 12,
   "metadata": {},
   "outputs": [
    {
     "name": "stdout",
     "output_type": "stream",
     "text": [
      "[0.14778323 0.26855432 0.29738386 0.31186282 0.32088948 0.32717012\n",
      " 0.33183843 0.33545609 0.33833754 0.34067682]\n"
     ]
    }
   ],
   "source": [
    "k = 7\n",
    "n = 2**k - 1\n",
    "nc = 2**(k-1) - 1\n",
    "sten = np.array([[0, -1, 0], [-1, 4, -1], [0, -1, 0]])\n",
    "A = (n+1)**2 * poissonop(n)\n",
    "P1d = interpolation1d(nc, n)\n",
    "P = sparse.kron(P1d, P1d).tocsr()\n",
    "\n",
    "x1d = np.linspace(0, 1, n+2)[1:-1]\n",
    "X, Y = np.meshgrid(x1d, x1d)\n",
    "ustar = (X**2 - X**4) * (Y**4 - Y**2)\n",
    "f = 2 * ((1-6*X**2) * Y**2 * (1 - Y**2) + (1-6*Y**2) * X**2 * (1-X**2))\n",
    "f = f.ravel()\n",
    "u = np.random.rand(n*n)\n",
    "\n",
    "A1 = P.T * A * P\n",
    "res = [hnorm(f - A * u)]\n",
    "err = [hnorm(ustar.ravel() - u)]\n",
    "for i in range(10):\n",
    "    u = twogrid(A, P, A1, u, f, 1)\n",
    "    res.append(hnorm(f - A * u))\n",
    "    err.append(hnorm(ustar.ravel() - u))\n",
    "\n",
    "res = np.array(res)\n",
    "print(res[1:] / res[:-1])"
   ]
  }
 ],
 "metadata": {
  "kernelspec": {
   "display_name": "Python 3",
   "language": "python",
   "name": "python3"
  },
  "language_info": {
   "codemirror_mode": {
    "name": "ipython",
    "version": 3
   },
   "file_extension": ".py",
   "mimetype": "text/x-python",
   "name": "python",
   "nbconvert_exporter": "python",
   "pygments_lexer": "ipython3",
   "version": "3.7.7"
  }
 },
 "nbformat": 4,
 "nbformat_minor": 2
}
